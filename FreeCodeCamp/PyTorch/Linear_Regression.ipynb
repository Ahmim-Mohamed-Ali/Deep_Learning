{
 "cells": [
  {
   "cell_type": "markdown",
   "id": "81e39fad-053d-47a6-a6a9-4b5fceee0157",
   "metadata": {},
   "source": [
    "## Linear Regression with PyTorch\n",
    "\n",
    "#### Part 2 of \"PyTorch: Zero to GANs\"\n",
    "\n",
    "*This post is the second in a series of tutorials on building deep learning models with PyTorch, an open source neural networks library developed and maintained by Facebook. Check out the full series:*\n",
    "\n",
    "1. [PyTorch Basics: Tensors & Gradients](https://medium.com/jovian-io/pytorch-basics-tensors-and-gradients-eb2f6e8a6eee) \n",
    "2. [Linear Regression & Gradient Descent](https://medium.com/jovian-io/linear-regression-with-pytorch-3dde91d60b50) (this post)\n",
    "3. Coming soon.. (logistic regression, neural networks, CNNs, RNNs, GANs etc.)\n",
    "\n",
    "\n",
    "Continuing where the [previous tutorial](https://jvn.io/aakashns/3143ceb92b4f4cbbb4f30e203580b77b) left off, we'll discuss one of the foundational  algorithms of machine learning in this post: *Linear regression*. We'll create a model that predicts crop yields for apples and oranges (*target variables*) by looking at the average temperature, rainfall and humidity (*input variables or features*) in a region. Here's the training data:\n",
    "\n",
    "![linear-regression-training-data](https://i.imgur.com/6Ujttb4.png)\n",
    "\n",
    "In a linear regression model, each target variable is estimated to be a weighted sum of the input variables, offset by some constant, known as a bias :\n",
    "\n",
    "```\n",
    "yield_apple  = w11 * temp + w12 * rainfall + w13 * humidity + b1\n",
    "yield_orange = w21 * temp + w22 * rainfall + w23 * humidity + b2\n",
    "```\n",
    "\n",
    "Visually, it means that the yield of apples is a linear or planar function of temperature, rainfall and humidity:\n",
    "\n",
    "![linear-regression-graph](https://i.imgur.com/4DJ9f8X.png)\n",
    "\n",
    "The *learning* part of linear regression is to figure out a set of weights `w11, w12,... w23, b1 & b2` by looking at the training data, to make accurate predictions for new data (i.e. to predict the yields for apples and oranges in a new region using the average temperature, rainfall and humidity). This is done by adjusting the weights slightly many times to make better predictions, using an optimization technique called *gradient descent*."
   ]
  },
  {
   "cell_type": "markdown",
   "id": "2fe6aa6a-1083-452f-a65d-b3a9b307d0ed",
   "metadata": {},
   "source": [
    "We begin by importing Numpy and PyTorch:"
   ]
  },
  {
   "cell_type": "code",
   "execution_count": 63,
   "id": "946e80ca-244a-4eec-9b93-4900af65b1bd",
   "metadata": {},
   "outputs": [],
   "source": [
    "import torch\n",
    "import numpy as np"
   ]
  },
  {
   "cell_type": "markdown",
   "id": "166c964e-aae1-4ef0-9d8e-5a3febbac94e",
   "metadata": {},
   "source": [
    "## Training data\n",
    "\n",
    "The training data can be represented using 2 matrices: `inputs` and `targets`, each with one row per observation, and one column per variable."
   ]
  },
  {
   "cell_type": "code",
   "execution_count": 3,
   "id": "8aba5d4d-4d3c-404b-b2d2-c375d7a7a477",
   "metadata": {},
   "outputs": [],
   "source": [
    "# Input (temp, rainfall, humidity)\n",
    "inputs = np.array([[73, 67, 43], \n",
    "                   [91, 88, 64], \n",
    "                   [87, 134, 58], \n",
    "                   [102, 43, 37], \n",
    "                   [69, 96, 70]], dtype='float32')"
   ]
  },
  {
   "cell_type": "code",
   "execution_count": 4,
   "id": "43ac320c-5049-4c17-bc07-6af3afcad071",
   "metadata": {},
   "outputs": [],
   "source": [
    "# Targets (apples, oranges)\n",
    "targets = np.array([[56, 70], \n",
    "                    [81, 101], \n",
    "                    [119, 133], \n",
    "                    [22, 37], \n",
    "                    [103, 119]], dtype='float32')"
   ]
  },
  {
   "cell_type": "markdown",
   "id": "d9d94055-6bda-4476-a325-85a7bd15557c",
   "metadata": {},
   "source": [
    "We've separated the input and target variables, because we'll operate on them separately. Also, we've created numpy arrays, because this is typically how you would work with training data: read some CSV files as numpy arrays, do some processing, and then convert them to PyTorch tensors as follows:"
   ]
  },
  {
   "cell_type": "code",
   "execution_count": 6,
   "id": "1c9927ed-a4ff-41db-b3a8-8dc9bbb7f7c3",
   "metadata": {},
   "outputs": [
    {
     "name": "stdout",
     "output_type": "stream",
     "text": [
      "tensor([[ 73.,  67.,  43.],\n",
      "        [ 91.,  88.,  64.],\n",
      "        [ 87., 134.,  58.],\n",
      "        [102.,  43.,  37.],\n",
      "        [ 69.,  96.,  70.]])\n",
      "tensor([[ 56.,  70.],\n",
      "        [ 81., 101.],\n",
      "        [119., 133.],\n",
      "        [ 22.,  37.],\n",
      "        [103., 119.]])\n"
     ]
    }
   ],
   "source": [
    "# Convert inputs and targets to tensors\n",
    "inputs = torch.from_numpy(inputs)\n",
    "targets = torch.from_numpy(targets)\n",
    "print(inputs)\n",
    "print(targets)"
   ]
  },
  {
   "cell_type": "markdown",
   "id": "9ae524bd-8337-4802-b02f-04f22d0f7167",
   "metadata": {},
   "source": [
    "## Linear regression model from scratch\n",
    "\n",
    "The weights and biases (`w11, w12,... w23, b1 & b2`) can also be represented as matrices, initialized as random values. The first row of `w` and the first element of `b` are used to predict the first target variable i.e. yield of apples, and similarly the second for oranges."
   ]
  },
  {
   "cell_type": "code",
   "execution_count": 7,
   "id": "650af092-5fc9-4442-82c9-2f6f8a4a3602",
   "metadata": {},
   "outputs": [
    {
     "name": "stdout",
     "output_type": "stream",
     "text": [
      "tensor([[ 0.6413, -0.5785,  0.0948],\n",
      "        [ 0.0745, -1.0468, -3.4076]], requires_grad=True)\n",
      "tensor([ 0.4082, -0.3926], requires_grad=True)\n"
     ]
    }
   ],
   "source": [
    "# Weights and biases\n",
    "w = torch.randn(2, 3, requires_grad=True)\n",
    "b = torch.randn(2, requires_grad=True)\n",
    "print(w)\n",
    "print(b)"
   ]
  },
  {
   "cell_type": "markdown",
   "id": "d9c5fe29-09c4-4fbc-a6b8-618661a2be1f",
   "metadata": {},
   "source": [
    "`torch.randn` creates a tensor with the given shape, with elements picked randomly from a [normal distribution](https://en.wikipedia.org/wiki/Normal_distribution) with mean 0 and standard deviation 1.\n",
    "\n",
    "Our *model* is simply a function that performs a matrix multiplication of the `inputs` and the weights `w` (transposed) and adds the bias `b` (replicated for each observation).\n",
    "\n",
    "![matrix-mult](https://i.imgur.com/WGXLFvA.png)\n",
    "\n",
    "We can define the model as follows:"
   ]
  },
  {
   "cell_type": "code",
   "execution_count": 9,
   "id": "60535d52-7774-4550-8913-390bdc1d4f7f",
   "metadata": {},
   "outputs": [],
   "source": [
    "def model(x):\n",
    "    return x @ w.t() + b"
   ]
  },
  {
   "cell_type": "markdown",
   "id": "b0bb649e-9a6a-4b76-811b-a15bea45dfe7",
   "metadata": {},
   "source": [
    "`@` represents matrix multiplication in PyTorch, and the `.t` method returns the transpose of a tensor.\n",
    "\n",
    "The matrix obtained by passing the input data into the model is a set of predictions for the target variables."
   ]
  },
  {
   "cell_type": "code",
   "execution_count": 10,
   "id": "f756229f-459f-4883-8e54-78ecd800fe72",
   "metadata": {},
   "outputs": [
    {
     "name": "stdout",
     "output_type": "stream",
     "text": [
      "tensor([[  12.5331, -211.6186],\n",
      "        [  13.9164, -303.8209],\n",
      "        [ -15.8295, -331.8276],\n",
      "        [  44.4459, -163.8879],\n",
      "        [  -4.2510, -334.2807]], grad_fn=<AddBackward0>)\n"
     ]
    }
   ],
   "source": [
    "# Generate predictions\n",
    "preds = model(inputs)\n",
    "print(preds)"
   ]
  },
  {
   "cell_type": "code",
   "execution_count": 11,
   "id": "76fa3cf9-53b1-49ef-aa93-cba3cdf9ed11",
   "metadata": {},
   "outputs": [
    {
     "name": "stdout",
     "output_type": "stream",
     "text": [
      "tensor([[ 56.,  70.],\n",
      "        [ 81., 101.],\n",
      "        [119., 133.],\n",
      "        [ 22.,  37.],\n",
      "        [103., 119.]])\n"
     ]
    }
   ],
   "source": [
    "# Compare with targets\n",
    "print(targets)"
   ]
  },
  {
   "cell_type": "markdown",
   "id": "03766c65-7d30-4ff3-b9dc-5c64203dd65b",
   "metadata": {},
   "source": [
    "You can see that there's a huge difference between the predictions of our model, and the actual values of the target variables. Obviously, this is because we've initialized our model with random weights and biases, and we can't expect it to *just work*."
   ]
  },
  {
   "cell_type": "markdown",
   "id": "cd22c06e-79dd-4385-a51d-f5c19fde14a0",
   "metadata": {},
   "source": [
    "## Loss function\n",
    "\n",
    "Before we improve our model, we need a way to evaluate how well our model is performing. We can compare the model's predictions with the actual targets, using the following method:\n",
    "\n",
    "* Calculate the difference between the two matrices (`preds` and `targets`).\n",
    "* Square all elements of the difference matrix to remove negative values.\n",
    "* Calculate the average of the elements in the resulting matrix.\n",
    "\n",
    "The result is a single number, known as the **mean squared error** (MSE)."
   ]
  },
  {
   "cell_type": "code",
   "execution_count": 23,
   "id": "1a879f76-750d-4f0b-b8fe-67b106d0811d",
   "metadata": {},
   "outputs": [],
   "source": [
    "def mse_loss(y_pred,y):\n",
    "    diff=y_pred-y\n",
    "    return  torch.sum(diff*diff)/diff.numel()"
   ]
  },
  {
   "cell_type": "markdown",
   "id": "b9439116-a639-4c3e-8320-130f849c8257",
   "metadata": {},
   "source": [
    "`torch.sum` returns the sum of all the elements in a tensor, and the `.numel` method returns the number of elements in a tensor. Let's compute the mean squared error for the current predictions of our model."
   ]
  },
  {
   "cell_type": "code",
   "execution_count": 13,
   "id": "3945ca67-66a5-4b0b-b51b-84ea6554a15c",
   "metadata": {},
   "outputs": [
    {
     "name": "stdout",
     "output_type": "stream",
     "text": [
      "tensor(74164.8281, grad_fn=<DivBackward0>)\n"
     ]
    }
   ],
   "source": [
    "# Compute Loss\n",
    "\n",
    "loss=loss(preds,targets)\n",
    "print(loss)"
   ]
  },
  {
   "cell_type": "markdown",
   "id": "6e3ad703-a049-4d65-bc8c-93562abbb53a",
   "metadata": {},
   "source": [
    "## Compute gradients\n",
    "\n",
    "With PyTorch, we can automatically compute the gradient or derivative of the loss w.r.t. to the weights and biases, because they have `requires_grad` set to `True`."
   ]
  },
  {
   "cell_type": "code",
   "execution_count": 14,
   "id": "fcdfd198-7c4a-40c2-b9a3-4cfeb1e30d48",
   "metadata": {},
   "outputs": [],
   "source": [
    "# Compute gradients\n",
    "loss.backward()"
   ]
  },
  {
   "cell_type": "markdown",
   "id": "1bae5c09-e758-4378-8682-80b406285e7e",
   "metadata": {},
   "source": [
    "The gradients are stored in the `.grad` property of the respective tensors. Note that the derivative of the loss w.r.t. the weights matrix is itself a matrix, with the same dimensions."
   ]
  },
  {
   "cell_type": "code",
   "execution_count": 16,
   "id": "74cf7eba-b4b5-4de7-af47-c96792926a94",
   "metadata": {},
   "outputs": [
    {
     "name": "stdout",
     "output_type": "stream",
     "text": [
      "tensor([[ 0.6413, -0.5785,  0.0948],\n",
      "        [ 0.0745, -1.0468, -3.4076]], requires_grad=True)\n",
      "tensor([[ -5223.7412,  -7242.7451,  -4131.9229],\n",
      "        [-29920.7617, -33786.5469, -20828.1289]])\n"
     ]
    }
   ],
   "source": [
    "# Gradients for weights\n",
    "print(w)\n",
    "print(w.grad)"
   ]
  },
  {
   "cell_type": "markdown",
   "id": "72505e57-1b1a-4fc0-bc02-059512f43d28",
   "metadata": {},
   "source": [
    "The loss is a [quadratic function](https://en.wikipedia.org/wiki/Quadratic_function) of our weights and biases, and our objective is to find the set of weights where the loss is the lowest. If we plot a graph of the loss w.r.t any individual weight or bias element, it will look like the figure shown below. A key insight from calculus is that the gradient indicates the rate of change of the loss, or the [slope](https://en.wikipedia.org/wiki/Slope) of the loss function w.r.t. the weights and biases.\n",
    "\n",
    "If a gradient element is **positive**:\n",
    "* **increasing** the element's value slightly will **increase** the loss.\n",
    "* **decreasing** the element's value slightly will **decrease** the loss\n",
    "\n",
    "![postive-gradient](https://i.imgur.com/hFYoVgU.png)\n",
    "\n",
    "If a gradient element is **negative**:\n",
    "* **increasing** the element's value slightly will **decrease** the loss.\n",
    "* **decreasing** the element's value slightly will **increase** the loss.\n",
    "\n",
    "![negative=gradient](https://i.imgur.com/w3Wii7C.png)\n",
    "\n",
    "The increase or decrease in loss by changing a weight element is proportional to the value of the gradient of the loss w.r.t. that element. This forms the basis for the optimization algorithm that we'll use to improve our model."
   ]
  },
  {
   "cell_type": "markdown",
   "id": "2272f2ab-303b-40ed-892f-f7112a74b216",
   "metadata": {},
   "source": [
    "Before we proceed, we reset the gradients to zero by calling `.zero_()` method. We need to do this, because PyTorch accumulates, gradients i.e. the next time we call `.backward` on the loss, the new gradient values will get added to the existing gradient values, which may lead to unexpected results."
   ]
  },
  {
   "cell_type": "code",
   "execution_count": 17,
   "id": "496edd3f-133a-4e21-b837-674ba0573e73",
   "metadata": {},
   "outputs": [
    {
     "name": "stdout",
     "output_type": "stream",
     "text": [
      "tensor([[0., 0., 0.],\n",
      "        [0., 0., 0.]])\n",
      "tensor([0., 0.])\n"
     ]
    }
   ],
   "source": [
    "w.grad.zero_()\n",
    "b.grad.zero_()\n",
    "print(w.grad)\n",
    "print(b.grad)"
   ]
  },
  {
   "cell_type": "markdown",
   "id": "577d666c-0b57-4f12-9794-aa30089866c7",
   "metadata": {},
   "source": [
    "## Adjust weights and biases using gradient descent\n",
    "\n",
    "We'll reduce the loss and improve our model using the gradient descent optimization algorithm, which has the following steps:\n",
    "\n",
    "1. Generate predictions\n",
    "\n",
    "2. Calculate the loss\n",
    "\n",
    "3. Compute gradients w.r.t the weights and biases\n",
    "\n",
    "4. Adjust the weights by subtracting a small quantity proportional to the gradient\n",
    "\n",
    "5. Reset the gradients to zero\n",
    "\n",
    "Let's implement the above step by step."
   ]
  },
  {
   "cell_type": "code",
   "execution_count": 21,
   "id": "4accc315-16ea-48e1-ae9f-d0f30d4e502d",
   "metadata": {},
   "outputs": [
    {
     "name": "stdout",
     "output_type": "stream",
     "text": [
      "tensor([[  12.5331, -211.6186],\n",
      "        [  13.9164, -303.8209],\n",
      "        [ -15.8295, -331.8276],\n",
      "        [  44.4459, -163.8879],\n",
      "        [  -4.2510, -334.2807]], grad_fn=<AddBackward0>)\n"
     ]
    }
   ],
   "source": [
    "## Generate Predictions \n",
    "\n",
    "y_pred=model(inputs)\n",
    "print(y_pred)"
   ]
  },
  {
   "cell_type": "markdown",
   "id": "62fa8df4-668d-46cb-94f5-204cc1a53277",
   "metadata": {},
   "source": [
    "Note that the predictions are same as before, since we haven't made any changes to our model. The same holds true for the loss and gradients."
   ]
  },
  {
   "cell_type": "code",
   "execution_count": 24,
   "id": "dea454bf-d749-47a8-b1a1-87412b30029c",
   "metadata": {},
   "outputs": [
    {
     "name": "stdout",
     "output_type": "stream",
     "text": [
      "tensor(74164.8281, grad_fn=<DivBackward0>)\n"
     ]
    }
   ],
   "source": [
    "loss=mse_loss(y_pred,targets)\n",
    "print(loss)"
   ]
  },
  {
   "cell_type": "code",
   "execution_count": 25,
   "id": "0a68ed1c-f953-46b9-90f6-a3924c22e770",
   "metadata": {},
   "outputs": [
    {
     "name": "stdout",
     "output_type": "stream",
     "text": [
      "tensor([[ -5223.7412,  -7242.7451,  -4131.9229],\n",
      "        [-29920.7617, -33786.5469, -20828.1289]])\n",
      "tensor([ -66.0370, -361.0872])\n"
     ]
    }
   ],
   "source": [
    "# Compute gradients\n",
    "loss.backward()\n",
    "print(w.grad)\n",
    "print(b.grad)"
   ]
  },
  {
   "cell_type": "markdown",
   "id": "6a175c4f-b863-40d3-9881-8dd725f22f09",
   "metadata": {},
   "source": [
    "Finally, we update the weights and biases using the gradients computed above."
   ]
  },
  {
   "cell_type": "code",
   "execution_count": 26,
   "id": "5566b8cd-b3cf-4667-b6fd-63603169cd32",
   "metadata": {},
   "outputs": [],
   "source": [
    "# Adjust weights & reset gradients\n",
    "with torch.no_grad():\n",
    "    w -= w.grad * 1e-5\n",
    "    b -= b.grad * 1e-5\n",
    "    w.grad.zero_()\n",
    "    b.grad.zero_()"
   ]
  },
  {
   "cell_type": "markdown",
   "id": "7af3ac3d-f567-45ec-afd0-b10ef87b9fc2",
   "metadata": {},
   "source": [
    "A few things to note above:\n",
    "\n",
    "* We use `torch.no_grad` to indicate to PyTorch that we shouldn't track, calculate or modify gradients while updating the weights and biases. \n",
    "\n",
    "* We multiply the gradients with a really small number (`10^-5` in this case), to ensure that we don't modify the weights by a really large amount, since we only want to take a small step in the downhill direction of the gradient. This number is called the *learning rate* of the algorithm. \n",
    "\n",
    "* After we have updated the weights, we reset the gradients back to zero, to avoid affecting any future computations."
   ]
  },
  {
   "cell_type": "markdown",
   "id": "46e37e5c-9614-47b1-8637-7103cc3a4dbf",
   "metadata": {},
   "source": [
    "Let's take a look at the new weights and biases."
   ]
  },
  {
   "cell_type": "code",
   "execution_count": 27,
   "id": "b2dc69dd-c17a-4549-84b6-4aa5c303ec9e",
   "metadata": {},
   "outputs": [
    {
     "name": "stdout",
     "output_type": "stream",
     "text": [
      "tensor([[ 0.6935, -0.5061,  0.1361],\n",
      "        [ 0.3737, -0.7090, -3.1993]], requires_grad=True)\n",
      "tensor([ 0.4089, -0.3890], requires_grad=True)\n"
     ]
    }
   ],
   "source": [
    "print(w)\n",
    "print(b)"
   ]
  },
  {
   "cell_type": "markdown",
   "id": "7246089f-7602-4bf2-a82c-61ba34587fd0",
   "metadata": {},
   "source": [
    "With the new weights and biases, the model should have lower loss."
   ]
  },
  {
   "cell_type": "code",
   "execution_count": 28,
   "id": "b4b16068-1493-4fcb-9e70-8780ac535440",
   "metadata": {},
   "outputs": [
    {
     "name": "stdout",
     "output_type": "stream",
     "text": [
      "tensor(50786.2227, grad_fn=<DivBackward0>)\n"
     ]
    }
   ],
   "source": [
    "# Calculate loss\n",
    "preds = model(inputs)\n",
    "loss = mse_loss(preds, targets)\n",
    "print(loss)"
   ]
  },
  {
   "cell_type": "markdown",
   "id": "adf7f90e-6c7a-4b83-a94c-6e9fd94b8480",
   "metadata": {},
   "source": [
    "We have already achieved a significant reduction in the loss, simply by adjusting the weights and biases slightly using gradient descent."
   ]
  },
  {
   "cell_type": "markdown",
   "id": "1678153f-bce4-4c30-b5fc-e62c708bc412",
   "metadata": {},
   "source": [
    "## Train for multiple epochs\n",
    "\n",
    "To reduce the loss further, we can repeat the process of adjusting the weights and biases using the gradients multiple times. Each iteration is called an epoch. Let's train the model for 100 epochs."
   ]
  },
  {
   "cell_type": "code",
   "execution_count": 35,
   "id": "f4695a46-2e56-4c60-95e9-d62908bf920b",
   "metadata": {},
   "outputs": [
    {
     "name": "stdout",
     "output_type": "stream",
     "text": [
      "Epoch number 0 , Loss= 998.68994140625\n",
      "Epoch number 1 , Loss= 921.5374145507812\n",
      "Epoch number 2 , Loss= 853.0076293945312\n",
      "Epoch number 3 , Loss= 792.0580444335938\n",
      "Epoch number 4 , Loss= 737.77392578125\n",
      "Epoch number 5 , Loss= 689.353515625\n",
      "Epoch number 6 , Loss= 646.0916748046875\n",
      "Epoch number 7 , Loss= 607.3701171875\n",
      "Epoch number 8 , Loss= 572.6465454101562\n",
      "Epoch number 9 , Loss= 541.4443969726562\n",
      "Epoch number 10 , Loss= 513.3452758789062\n",
      "Epoch number 11 , Loss= 487.98211669921875\n",
      "Epoch number 12 , Loss= 465.03253173828125\n",
      "Epoch number 13 , Loss= 444.2129821777344\n",
      "Epoch number 14 , Loss= 425.27587890625\n",
      "Epoch number 15 , Loss= 408.00189208984375\n",
      "Epoch number 16 , Loss= 392.1996765136719\n",
      "Epoch number 17 , Loss= 377.7008056640625\n",
      "Epoch number 18 , Loss= 364.35675048828125\n",
      "Epoch number 19 , Loss= 352.03790283203125\n",
      "Epoch number 20 , Loss= 340.6296691894531\n",
      "Epoch number 21 , Loss= 330.0318298339844\n",
      "Epoch number 22 , Loss= 320.1552734375\n",
      "Epoch number 23 , Loss= 310.92291259765625\n",
      "Epoch number 24 , Loss= 302.2660217285156\n",
      "Epoch number 25 , Loss= 294.124267578125\n",
      "Epoch number 26 , Loss= 286.44464111328125\n",
      "Epoch number 27 , Loss= 279.1805725097656\n",
      "Epoch number 28 , Loss= 272.2908020019531\n",
      "Epoch number 29 , Loss= 265.73895263671875\n",
      "Epoch number 30 , Loss= 259.4931335449219\n",
      "Epoch number 31 , Loss= 253.52490234375\n",
      "Epoch number 32 , Loss= 247.8093719482422\n",
      "Epoch number 33 , Loss= 242.32421875\n",
      "Epoch number 34 , Loss= 237.0504608154297\n",
      "Epoch number 35 , Loss= 231.9702606201172\n",
      "Epoch number 36 , Loss= 227.0686492919922\n",
      "Epoch number 37 , Loss= 222.3316192626953\n",
      "Epoch number 38 , Loss= 217.7472381591797\n",
      "Epoch number 39 , Loss= 213.3050079345703\n",
      "Epoch number 40 , Loss= 208.99490356445312\n",
      "Epoch number 41 , Loss= 204.8085479736328\n",
      "Epoch number 42 , Loss= 200.73834228515625\n",
      "Epoch number 43 , Loss= 196.777587890625\n",
      "Epoch number 44 , Loss= 192.9195098876953\n",
      "Epoch number 45 , Loss= 189.15924072265625\n",
      "Epoch number 46 , Loss= 185.4915313720703\n",
      "Epoch number 47 , Loss= 181.9118194580078\n",
      "Epoch number 48 , Loss= 178.41598510742188\n",
      "Epoch number 49 , Loss= 175.00057983398438\n",
      "Epoch number 50 , Loss= 171.662109375\n",
      "Epoch number 51 , Loss= 168.39730834960938\n",
      "Epoch number 52 , Loss= 165.20375061035156\n",
      "Epoch number 53 , Loss= 162.07859802246094\n",
      "Epoch number 54 , Loss= 159.01934814453125\n",
      "Epoch number 55 , Loss= 156.02401733398438\n",
      "Epoch number 56 , Loss= 153.09046936035156\n",
      "Epoch number 57 , Loss= 150.21673583984375\n",
      "Epoch number 58 , Loss= 147.40127563476562\n",
      "Epoch number 59 , Loss= 144.64207458496094\n",
      "Epoch number 60 , Loss= 141.93783569335938\n",
      "Epoch number 61 , Loss= 139.28707885742188\n",
      "Epoch number 62 , Loss= 136.6884307861328\n",
      "Epoch number 63 , Loss= 134.14047241210938\n",
      "Epoch number 64 , Loss= 131.64193725585938\n",
      "Epoch number 65 , Loss= 129.19178771972656\n",
      "Epoch number 66 , Loss= 126.78890228271484\n",
      "Epoch number 67 , Loss= 124.43204498291016\n",
      "Epoch number 68 , Loss= 122.1202163696289\n",
      "Epoch number 69 , Loss= 119.85262298583984\n",
      "Epoch number 70 , Loss= 117.6280288696289\n",
      "Epoch number 71 , Loss= 115.44547271728516\n",
      "Epoch number 72 , Loss= 113.3044662475586\n",
      "Epoch number 73 , Loss= 111.20394134521484\n",
      "Epoch number 74 , Loss= 109.1428451538086\n",
      "Epoch number 75 , Loss= 107.12062072753906\n",
      "Epoch number 76 , Loss= 105.13633728027344\n",
      "Epoch number 77 , Loss= 103.18951416015625\n",
      "Epoch number 78 , Loss= 101.27921295166016\n",
      "Epoch number 79 , Loss= 99.40459442138672\n",
      "Epoch number 80 , Loss= 97.56511688232422\n",
      "Epoch number 81 , Loss= 95.75995635986328\n",
      "Epoch number 82 , Loss= 93.98863983154297\n",
      "Epoch number 83 , Loss= 92.2503890991211\n",
      "Epoch number 84 , Loss= 90.54463195800781\n",
      "Epoch number 85 , Loss= 88.87057495117188\n",
      "Epoch number 86 , Loss= 87.22795104980469\n",
      "Epoch number 87 , Loss= 85.61589050292969\n",
      "Epoch number 88 , Loss= 84.03389739990234\n",
      "Epoch number 89 , Loss= 82.48133087158203\n",
      "Epoch number 90 , Loss= 80.9576187133789\n",
      "Epoch number 91 , Loss= 79.4623794555664\n",
      "Epoch number 92 , Loss= 77.994873046875\n",
      "Epoch number 93 , Loss= 76.55479431152344\n",
      "Epoch number 94 , Loss= 75.14147186279297\n",
      "Epoch number 95 , Loss= 73.75450897216797\n",
      "Epoch number 96 , Loss= 72.39337158203125\n",
      "Epoch number 97 , Loss= 71.05752563476562\n",
      "Epoch number 98 , Loss= 69.74639892578125\n",
      "Epoch number 99 , Loss= 68.45978546142578\n"
     ]
    }
   ],
   "source": [
    "for i in range(100):\n",
    "    y_preds=model(inputs)\n",
    "    loss=mse_loss(y_preds,targets)\n",
    "    loss.backward()\n",
    "\n",
    "    with torch.no_grad():\n",
    "        w-=w.grad * 1e-4\n",
    "        b-=b.grad * 1e-4\n",
    "        w.grad.zero_()\n",
    "        b.grad.zero_()\n",
    "    print(f\"Epoch number {i} , Loss= {loss}\")"
   ]
  },
  {
   "cell_type": "markdown",
   "id": "8c869646-d8a2-44f9-8f2d-d841872c8717",
   "metadata": {},
   "source": [
    "As you can see, the loss is now much lower than what we started out with. Let's look at the model's predictions and compare them with the targets."
   ]
  },
  {
   "cell_type": "code",
   "execution_count": 36,
   "id": "18ab117e-51be-41aa-8208-6b003857faf4",
   "metadata": {},
   "outputs": [
    {
     "name": "stdout",
     "output_type": "stream",
     "text": [
      "tensor(67.1971, grad_fn=<DivBackward0>)\n"
     ]
    }
   ],
   "source": [
    "# Calculate loss\n",
    "preds = model(inputs)\n",
    "loss = mse_loss(preds, targets)\n",
    "print(loss)"
   ]
  },
  {
   "cell_type": "code",
   "execution_count": 40,
   "id": "cb902b29-9861-43ef-87c3-560d790b52a6",
   "metadata": {},
   "outputs": [
    {
     "name": "stdout",
     "output_type": "stream",
     "text": [
      "Prediction tensor([[ 57.3162,  71.2263],\n",
      "        [ 81.5589,  92.5833],\n",
      "        [119.9251, 149.8748],\n",
      "        [ 21.4925,  41.8322],\n",
      "        [100.6328, 102.1847]], grad_fn=<AddBackward0>)\n"
     ]
    }
   ],
   "source": [
    "y_preds=model(inputs)\n",
    "print(\"Prediction\" , y_preds)"
   ]
  },
  {
   "cell_type": "code",
   "execution_count": 38,
   "id": "d35440b4-d549-4578-ad72-b0f23e1939d8",
   "metadata": {},
   "outputs": [
    {
     "name": "stdout",
     "output_type": "stream",
     "text": [
      "Target Values tensor([[ 56.,  70.],\n",
      "        [ 81., 101.],\n",
      "        [119., 133.],\n",
      "        [ 22.,  37.],\n",
      "        [103., 119.]])\n"
     ]
    }
   ],
   "source": [
    "print(\"Target Values\",targets)"
   ]
  },
  {
   "cell_type": "markdown",
   "id": "2a1bba57-e455-41dc-b49e-dbab18889f92",
   "metadata": {},
   "source": [
    "## Linear regression using PyTorch built-ins\n",
    "\n",
    "The model and training process above were implemented using basic matrix operations. But since this such a common pattern , PyTorch has several built-in functions and classes to make it easy to create and train models.\n",
    "\n",
    "Let's begin by importing the `torch.nn` package from PyTorch, which contains utility classes for building neural networks."
   ]
  },
  {
   "cell_type": "code",
   "execution_count": 41,
   "id": "0f3aaaef-d40e-4d4c-a387-e54aaf5f817b",
   "metadata": {},
   "outputs": [],
   "source": [
    "import torch.nn as nn"
   ]
  },
  {
   "cell_type": "markdown",
   "id": "bb35e965-28af-4592-bf9f-204efa7b9392",
   "metadata": {},
   "source": [
    "As before, we represent the inputs and targets and matrices."
   ]
  },
  {
   "cell_type": "code",
   "execution_count": 42,
   "id": "870708cb-df5a-494c-93aa-736f02f55fc1",
   "metadata": {},
   "outputs": [],
   "source": [
    "# Input (temp, rainfall, humidity)\n",
    "inputs = np.array([[73, 67, 43], [91, 88, 64], [87, 134, 58], \n",
    "                   [102, 43, 37], [69, 96, 70], [73, 67, 43], \n",
    "                   [91, 88, 64], [87, 134, 58], [102, 43, 37], \n",
    "                   [69, 96, 70], [73, 67, 43], [91, 88, 64], \n",
    "                   [87, 134, 58], [102, 43, 37], [69, 96, 70]], \n",
    "                  dtype='float32')\n",
    "\n",
    "# Targets (apples, oranges)\n",
    "targets = np.array([[56, 70], [81, 101], [119, 133], \n",
    "                    [22, 37], [103, 119], [56, 70], \n",
    "                    [81, 101], [119, 133], [22, 37], \n",
    "                    [103, 119], [56, 70], [81, 101], \n",
    "                    [119, 133], [22, 37], [103, 119]], \n",
    "                   dtype='float32')\n",
    "\n",
    "inputs = torch.from_numpy(inputs)\n",
    "targets = torch.from_numpy(targets)"
   ]
  },
  {
   "cell_type": "markdown",
   "id": "d46b395f-02b7-451a-913b-9afb02027624",
   "metadata": {},
   "source": [
    "We are using 15 training examples this time, to illustrate how to work with large datasets in small batches."
   ]
  },
  {
   "cell_type": "markdown",
   "id": "9fbd902a-a60a-4d68-b95e-d7e15c36f7c7",
   "metadata": {},
   "source": [
    "## Dataset and DataLoader\n",
    "\n",
    "We'll create a `TensorDataset`, which allows access to rows from `inputs` and `targets` as tuples, and provides standard APIs for working with many different types of datasets in PyTorch."
   ]
  },
  {
   "cell_type": "code",
   "execution_count": 43,
   "id": "8c3511fa-69bb-48b7-88c5-21b2641a09ea",
   "metadata": {},
   "outputs": [],
   "source": [
    "from torch.utils.data import TensorDataset"
   ]
  },
  {
   "cell_type": "code",
   "execution_count": 44,
   "id": "00a98f7b-5e3d-42d3-b5f6-27625d65c21b",
   "metadata": {},
   "outputs": [
    {
     "data": {
      "text/plain": [
       "(tensor([[ 73.,  67.,  43.],\n",
       "         [ 91.,  88.,  64.],\n",
       "         [ 87., 134.,  58.]]),\n",
       " tensor([[ 56.,  70.],\n",
       "         [ 81., 101.],\n",
       "         [119., 133.]]))"
      ]
     },
     "execution_count": 44,
     "metadata": {},
     "output_type": "execute_result"
    }
   ],
   "source": [
    "# Define dataset\n",
    "train_ds = TensorDataset(inputs, targets)\n",
    "train_ds[0:3]"
   ]
  },
  {
   "cell_type": "markdown",
   "id": "dd47cd56-41a2-49b6-82fe-d8ebe78e2ef3",
   "metadata": {},
   "source": [
    "The `TensorDataset` allows us to access a small section of the training data using the array indexing notation (`[0:3]` in the above code). It returns a tuple (or pair), in which the first element contains the input variables for the selected rows, and the second contains the targets."
   ]
  },
  {
   "cell_type": "markdown",
   "id": "96ff6be2-d870-42af-872a-99723ce6c629",
   "metadata": {},
   "source": [
    "We'll also create a `DataLoader`, which can split the data into batches of a predefined size while training. It also provides other utilities like shuffling and random sampling of the data."
   ]
  },
  {
   "cell_type": "code",
   "execution_count": 45,
   "id": "63bc47c0-6882-4222-9b50-6d6d67abc5ad",
   "metadata": {},
   "outputs": [],
   "source": [
    "from torch.utils.data import DataLoader"
   ]
  },
  {
   "cell_type": "code",
   "execution_count": 46,
   "id": "678bc600-7cfc-4419-9f77-55ce81e5568d",
   "metadata": {},
   "outputs": [],
   "source": [
    "# Define data loader\n",
    "batch_size = 5\n",
    "train_dl = DataLoader(train_ds, batch_size, shuffle=True)"
   ]
  },
  {
   "cell_type": "markdown",
   "id": "16e854a6-f917-4f85-8f08-d22efa23513d",
   "metadata": {},
   "source": [
    "The data loader is typically used in a `for-in` loop. Let's look at an example."
   ]
  },
  {
   "cell_type": "code",
   "execution_count": 47,
   "id": "4e521e7d-ae7e-4262-8f56-eceed232e35c",
   "metadata": {},
   "outputs": [
    {
     "name": "stdout",
     "output_type": "stream",
     "text": [
      "Sample features tensor([[ 87., 134.,  58.],\n",
      "        [102.,  43.,  37.],\n",
      "        [ 73.,  67.,  43.],\n",
      "        [ 69.,  96.,  70.],\n",
      "        [ 87., 134.,  58.]])\n",
      "Predict Variables tensor([[119., 133.],\n",
      "        [ 22.,  37.],\n",
      "        [ 56.,  70.],\n",
      "        [103., 119.],\n",
      "        [119., 133.]])\n",
      "Sample features tensor([[73., 67., 43.],\n",
      "        [69., 96., 70.],\n",
      "        [91., 88., 64.],\n",
      "        [73., 67., 43.],\n",
      "        [91., 88., 64.]])\n",
      "Predict Variables tensor([[ 56.,  70.],\n",
      "        [103., 119.],\n",
      "        [ 81., 101.],\n",
      "        [ 56.,  70.],\n",
      "        [ 81., 101.]])\n",
      "Sample features tensor([[ 91.,  88.,  64.],\n",
      "        [102.,  43.,  37.],\n",
      "        [ 87., 134.,  58.],\n",
      "        [ 69.,  96.,  70.],\n",
      "        [102.,  43.,  37.]])\n",
      "Predict Variables tensor([[ 81., 101.],\n",
      "        [ 22.,  37.],\n",
      "        [119., 133.],\n",
      "        [103., 119.],\n",
      "        [ 22.,  37.]])\n"
     ]
    }
   ],
   "source": [
    "for x,y in train_dl:\n",
    "    print(\"Sample features\",x)\n",
    "    print(\"Predict Variables\",y)"
   ]
  },
  {
   "cell_type": "markdown",
   "id": "090d130f-04b2-4369-8263-fc8ed5e0c4d9",
   "metadata": {},
   "source": [
    "In each iteration, the data loader returns one batch of data, with the given batch size. If `shuffle` is set to `True`, it shuffles the training data before creating batches. Shuffling helps randomize the input to the optimization algorithm, which can lead to faster reduction in the loss."
   ]
  },
  {
   "cell_type": "markdown",
   "id": "049acc36-c2dd-4fc0-8ff4-c5743fbf6a68",
   "metadata": {},
   "source": [
    "## nn.Linear\n",
    "\n",
    "Instead of initializing the weights & biases manually, we can define the model using the `nn.Linear` class from PyTorch, which does it automatically."
   ]
  },
  {
   "cell_type": "code",
   "execution_count": 48,
   "id": "574b58b2-733a-4c85-bb85-3494e823fd3e",
   "metadata": {},
   "outputs": [
    {
     "name": "stdout",
     "output_type": "stream",
     "text": [
      "Parameter containing:\n",
      "tensor([[-0.0830, -0.2389,  0.5413],\n",
      "        [ 0.2430, -0.4943, -0.4344]], requires_grad=True)\n",
      "Parameter containing:\n",
      "tensor([0.3260, 0.4710], requires_grad=True)\n"
     ]
    }
   ],
   "source": [
    "# Define model\n",
    "model = nn.Linear(3, 2)\n",
    "print(model.weight)\n",
    "print(model.bias)"
   ]
  },
  {
   "cell_type": "markdown",
   "id": "e29bc2c2-a095-44fd-95e4-13a066dfb401",
   "metadata": {},
   "source": [
    "We can use the model to generate predictions in the exact same way as before:"
   ]
  },
  {
   "cell_type": "code",
   "execution_count": 49,
   "id": "9e1a5ea0-6b99-4afc-8602-310025f7f668",
   "metadata": {},
   "outputs": [
    {
     "data": {
      "text/plain": [
       "tensor([[  1.5358, -33.5853],\n",
       "        [  6.3917, -48.7139],\n",
       "        [ -7.5152, -69.8161],\n",
       "        [  1.6163, -12.0680],\n",
       "        [  9.5534, -60.6215],\n",
       "        [  1.5358, -33.5853],\n",
       "        [  6.3917, -48.7139],\n",
       "        [ -7.5152, -69.8161],\n",
       "        [  1.6163, -12.0680],\n",
       "        [  9.5534, -60.6215],\n",
       "        [  1.5358, -33.5853],\n",
       "        [  6.3917, -48.7139],\n",
       "        [ -7.5152, -69.8161],\n",
       "        [  1.6163, -12.0680],\n",
       "        [  9.5534, -60.6215]], grad_fn=<AddmmBackward0>)"
      ]
     },
     "execution_count": 49,
     "metadata": {},
     "output_type": "execute_result"
    }
   ],
   "source": [
    "# Generate predictions\n",
    "preds = model(inputs)\n",
    "preds"
   ]
  },
  {
   "cell_type": "markdown",
   "id": "e7d40342-bbf9-4df8-8784-43ad7fb9ce50",
   "metadata": {},
   "source": [
    "## Loss Function\n",
    "\n",
    "Instead of defining a loss function manually, we can use the built-in loss function `mse_loss`."
   ]
  },
  {
   "cell_type": "code",
   "execution_count": 51,
   "id": "24990130-bd3c-43cb-9b1e-ae5be771e068",
   "metadata": {},
   "outputs": [
    {
     "data": {
      "text/plain": [
       "tensor(14263.6699, grad_fn=<MseLossBackward0>)"
      ]
     },
     "execution_count": 51,
     "metadata": {},
     "output_type": "execute_result"
    }
   ],
   "source": [
    "loss_function=torch.nn.MSELoss()\n",
    "loss_function(preds,targets)"
   ]
  },
  {
   "cell_type": "markdown",
   "id": "99246f24-e705-48fb-899c-1c1f7300b866",
   "metadata": {},
   "source": [
    "## Optimizer\n",
    "\n",
    "Instead of manually manipulating the model's weights & biases using gradients, we can use the optimizer `optim.SGD`. SGD stands for `stochastic gradient descent`. It is called `stochastic` because samples are selected in batches (often with random shuffling) instead of as a single group."
   ]
  },
  {
   "cell_type": "code",
   "execution_count": 54,
   "id": "7d919e10-89d3-4f4b-9b13-f832df74c71f",
   "metadata": {},
   "outputs": [],
   "source": [
    "optimizer=torch.optim.SGD(model.parameters(),lr=1e-5)"
   ]
  },
  {
   "cell_type": "markdown",
   "id": "7aea903e-ba44-410d-8bd2-b599dbf4b520",
   "metadata": {},
   "source": [
    "Note that `model.parameters()` is passed as an argument to `optim.SGD`, so that the optimizer knows which matrices should be modified during the update step. Also, we can specify a learning rate which controls the amount by which the parameters are modified."
   ]
  },
  {
   "cell_type": "markdown",
   "id": "dba951e4-a2c4-4507-adb6-211297499727",
   "metadata": {},
   "source": [
    "## Train the model\n",
    "\n",
    "We are now ready to train the model. We'll follow the exact same process to implement gradient descent:\n",
    "\n",
    "1. Generate predictions\n",
    "\n",
    "2. Calculate the loss\n",
    "\n",
    "3. Compute gradients w.r.t the weights and biases\n",
    "\n",
    "4. Adjust the weights by subtracting a small quantity proportional to the gradient\n",
    "\n",
    "5. Reset the gradients to zero\n",
    "\n",
    "The only change is that we'll work batches of data, instead of processing the entire training data in every iteration. Let's define a utility function `fit` which trains the model for a given number of epochs."
   ]
  },
  {
   "cell_type": "code",
   "execution_count": 59,
   "id": "59f4be3c-4d60-4de5-be1b-ebf9f91169c5",
   "metadata": {},
   "outputs": [],
   "source": [
    "# Utility function to train the model\n",
    "def fit(num_epochs, model, loss_fn, opt,train_dl):\n",
    "    \n",
    "    # Repeat for given number of epochs\n",
    "    for epoch in range(num_epochs):\n",
    "        \n",
    "        # Train with batches of data\n",
    "        for xb,yb in train_dl:\n",
    "            \n",
    "            # 1. Generate predictions\n",
    "            pred = model(xb)\n",
    "            \n",
    "            # 2. Calculate loss\n",
    "            loss = loss_fn(pred, yb)\n",
    "            \n",
    "            # 3. Compute gradients\n",
    "            loss.backward()\n",
    "            \n",
    "            # 4. Update parameters using gradients\n",
    "            opt.step()\n",
    "            \n",
    "            # 5. Reset the gradients to zero\n",
    "            opt.zero_grad()\n",
    "        \n",
    "        # Print the progress\n",
    "        if (epoch+1) % 10 == 0:\n",
    "            print('Epoch [{}/{}], Loss: {:.4f}'.format(epoch+1, num_epochs, loss.item()))"
   ]
  },
  {
   "cell_type": "markdown",
   "id": "6005e232-0eec-4143-a45f-9e5f3bbaebe2",
   "metadata": {},
   "source": [
    "Some things to note above:\n",
    "\n",
    "* We use the data loader defined earlier to get batches of data for every iteration.\n",
    "\n",
    "* Instead of updating parameters (weights and biases) manually, we use `opt.step` to perform the update, and `opt.zero_grad` to reset the gradients to zero.\n",
    "\n",
    "* We've also added a log statement which prints the loss from the last batch of data for every 10th epoch, to track the progress of training. `loss.item` returns the actual value stored in the loss tensor.\n",
    "\n",
    "Let's train the model for 100 epochs."
   ]
  },
  {
   "cell_type": "code",
   "execution_count": 60,
   "id": "7a5fb4d6-06a9-4e2d-9888-a0c9b9dc9a7b",
   "metadata": {},
   "outputs": [
    {
     "name": "stdout",
     "output_type": "stream",
     "text": [
      "Epoch [10/100], Loss: 748.0607\n",
      "Epoch [20/100], Loss: 365.0448\n",
      "Epoch [30/100], Loss: 368.3323\n",
      "Epoch [40/100], Loss: 223.7513\n",
      "Epoch [50/100], Loss: 158.4693\n",
      "Epoch [60/100], Loss: 147.2744\n",
      "Epoch [70/100], Loss: 52.2986\n",
      "Epoch [80/100], Loss: 71.0775\n",
      "Epoch [90/100], Loss: 31.5469\n",
      "Epoch [100/100], Loss: 46.8821\n"
     ]
    }
   ],
   "source": [
    "fit(100,model,loss_function,optimizer,train_dl)"
   ]
  },
  {
   "cell_type": "markdown",
   "id": "16f7d64d-ef32-4f62-95bd-339961e9c028",
   "metadata": {},
   "source": [
    "Let's generate predictions using our model and verify that they're close to our targets."
   ]
  },
  {
   "cell_type": "code",
   "execution_count": 61,
   "id": "4371c2cf-c61f-43b9-bc57-5df45a41eb94",
   "metadata": {},
   "outputs": [
    {
     "data": {
      "text/plain": [
       "tensor([[ 58.2454,  72.5338],\n",
       "        [ 84.0520,  97.4017],\n",
       "        [113.0070, 137.1134],\n",
       "        [ 26.9612,  48.7697],\n",
       "        [101.7454, 106.6642],\n",
       "        [ 58.2454,  72.5338],\n",
       "        [ 84.0520,  97.4017],\n",
       "        [113.0070, 137.1134],\n",
       "        [ 26.9612,  48.7697],\n",
       "        [101.7454, 106.6642],\n",
       "        [ 58.2454,  72.5338],\n",
       "        [ 84.0520,  97.4017],\n",
       "        [113.0070, 137.1134],\n",
       "        [ 26.9612,  48.7697],\n",
       "        [101.7454, 106.6642]], grad_fn=<AddmmBackward0>)"
      ]
     },
     "execution_count": 61,
     "metadata": {},
     "output_type": "execute_result"
    }
   ],
   "source": [
    "# Generate predictions\n",
    "preds = model(inputs)\n",
    "preds"
   ]
  },
  {
   "cell_type": "code",
   "execution_count": 62,
   "id": "abb7f29e-92dd-477f-a3ce-8744666567c2",
   "metadata": {},
   "outputs": [
    {
     "data": {
      "text/plain": [
       "tensor([[ 56.,  70.],\n",
       "        [ 81., 101.],\n",
       "        [119., 133.],\n",
       "        [ 22.,  37.],\n",
       "        [103., 119.],\n",
       "        [ 56.,  70.],\n",
       "        [ 81., 101.],\n",
       "        [119., 133.],\n",
       "        [ 22.,  37.],\n",
       "        [103., 119.],\n",
       "        [ 56.,  70.],\n",
       "        [ 81., 101.],\n",
       "        [119., 133.],\n",
       "        [ 22.,  37.],\n",
       "        [103., 119.]])"
      ]
     },
     "execution_count": 62,
     "metadata": {},
     "output_type": "execute_result"
    }
   ],
   "source": [
    "# Compare with targets\n",
    "targets"
   ]
  },
  {
   "cell_type": "markdown",
   "id": "1e0743cf-6fc6-47fa-9dd3-aa35d47f4f6c",
   "metadata": {},
   "source": [
    "Indeed, the predictions are quite close to our targets, and now we have a fairly good model to predict crop yields for apples and oranges by looking at the average temperature, rainfall and humidity in a region."
   ]
  },
  {
   "cell_type": "code",
   "execution_count": null,
   "id": "f08c3855-635d-43c5-bfff-3913f61c80a6",
   "metadata": {},
   "outputs": [],
   "source": []
  }
 ],
 "metadata": {
  "kernelspec": {
   "display_name": "Python 3 (ipykernel)",
   "language": "python",
   "name": "python3"
  },
  "language_info": {
   "codemirror_mode": {
    "name": "ipython",
    "version": 3
   },
   "file_extension": ".py",
   "mimetype": "text/x-python",
   "name": "python",
   "nbconvert_exporter": "python",
   "pygments_lexer": "ipython3",
   "version": "3.10.16"
  }
 },
 "nbformat": 4,
 "nbformat_minor": 5
}
