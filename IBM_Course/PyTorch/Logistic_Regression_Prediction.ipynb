{
 "cells": [
  {
   "cell_type": "markdown",
   "id": "0525adca-33ad-449c-bf8d-66feee43f405",
   "metadata": {},
   "source": [
    "# Logistic Regression"
   ]
  },
  {
   "cell_type": "markdown",
   "id": "6f622b42-f044-454b-8849-cdebbb1597dd",
   "metadata": {},
   "source": [
    "## Objective\n",
    "- How to create a logistic regression object with the nn.Sequential model."
   ]
  },
  {
   "cell_type": "code",
   "execution_count": 1,
   "id": "7b00482d-53ac-495b-9bd8-06377f4ae917",
   "metadata": {},
   "outputs": [],
   "source": [
    "# Import the libraries we need for this lab\n",
    "\n",
    "import torch.nn as nn\n",
    "import torch\n",
    "import matplotlib.pyplot as plt "
   ]
  },
  {
   "cell_type": "markdown",
   "id": "22fc8239-a671-48b8-a45c-b4140b077dd3",
   "metadata": {},
   "source": [
    "Logistic Function\n",
    "Create a tensor ranging from -100 to 100:"
   ]
  },
  {
   "cell_type": "code",
   "execution_count": 2,
   "id": "8b75b31e-e283-432a-bfa4-c3c9bc5a895f",
   "metadata": {},
   "outputs": [
    {
     "name": "stdout",
     "output_type": "stream",
     "text": [
      "The tensor:  tensor([[-100.0000],\n",
      "        [ -99.9000],\n",
      "        [ -99.8000],\n",
      "        ...,\n",
      "        [  99.7000],\n",
      "        [  99.8000],\n",
      "        [  99.9000]])\n"
     ]
    }
   ],
   "source": [
    "z = torch.arange(-100, 100, 0.1).view(-1, 1)\n",
    "print(\"The tensor: \", z)"
   ]
  },
  {
   "cell_type": "markdown",
   "id": "baacdc03-5c02-4d7b-926f-79add913a110",
   "metadata": {},
   "source": [
    "Create a sigmoid object:"
   ]
  },
  {
   "cell_type": "code",
   "execution_count": 3,
   "id": "a0c1d934-743a-4f24-a96a-0c6ab8da8615",
   "metadata": {},
   "outputs": [],
   "source": [
    "# Create sigmoid object\n",
    "\n",
    "sig = nn.Sigmoid()"
   ]
  },
  {
   "cell_type": "markdown",
   "id": "66d1286f-a1d2-432a-88d6-62d58abde696",
   "metadata": {},
   "source": [
    "Apply the element-wise function Sigmoid with the object:"
   ]
  },
  {
   "cell_type": "code",
   "execution_count": 5,
   "id": "027d4047-6b60-4564-8d86-49fca2005705",
   "metadata": {},
   "outputs": [
    {
     "data": {
      "text/plain": [
       "Text(0, 0.5, 'yhat')"
      ]
     },
     "execution_count": 5,
     "metadata": {},
     "output_type": "execute_result"
    },
    {
     "data": {
      "image/png": "[encoded data removed]",
      "text/plain": [
       "<Figure size 640x480 with 1 Axes>"
      ]
     },
     "metadata": {},
     "output_type": "display_data"
    }
   ],
   "source": [
    "y_hat=sig(z)\n",
    "plt.plot(z.numpy(),y_hat.numpy())\n",
    "plt.xlabel(\"z\")\n",
    "plt.ylabel(\"yhat\")"
   ]
  },
  {
   "cell_type": "markdown",
   "id": "dfa4e79c-95ef-4820-8fa3-ad8740e5f0e3",
   "metadata": {},
   "source": [
    "Apply the element-wise Sigmoid from the function module and plot the results:"
   ]
  },
  {
   "cell_type": "code",
   "execution_count": 6,
   "id": "8e2f4cb9-0282-46bb-b031-c71c23738624",
   "metadata": {},
   "outputs": [
    {
     "data": {
      "text/plain": [
       "[<matplotlib.lines.Line2D at 0x1ce0d0908e0>]"
      ]
     },
     "execution_count": 6,
     "metadata": {},
     "output_type": "execute_result"
    },
    {
     "data": {
      "image/png": "[encoded data removed]",
      "text/plain": [
       "<Figure size 640x480 with 1 Axes>"
      ]
     },
     "metadata": {},
     "output_type": "display_data"
    }
   ],
   "source": [
    "yhat = torch.sigmoid(z)\n",
    "plt.plot(z.numpy(), yhat.numpy())"
   ]
  },
  {
   "cell_type": "markdown",
   "id": "1d32b06f-f45a-414a-92ae-90dda9d330da",
   "metadata": {},
   "source": [
    "## Build a Logistic Regression Using nn.Sequential"
   ]
  },
  {
   "cell_type": "markdown",
   "id": "92c5995c-aea0-42b1-ae8a-bf22f2ae31e2",
   "metadata": {},
   "source": [
    "Create a 1x1 tensor where x represents one data sample with one dimension, and 2x1 tensor X represents two data samples of one dimension:"
   ]
  },
  {
   "cell_type": "code",
   "execution_count": 19,
   "id": "c622a8b7-6e33-43a1-abcb-a1302de020ad",
   "metadata": {},
   "outputs": [
    {
     "name": "stdout",
     "output_type": "stream",
     "text": [
      "x =  tensor([5.])\n",
      "X =  tensor([[12.],\n",
      "        [ 6.]])\n"
     ]
    }
   ],
   "source": [
    "x=torch.tensor([5.])\n",
    "X=torch.tensor([[12.],[6.]])\n",
    "print('x = ', x)\n",
    "print('X = ', X)"
   ]
  },
  {
   "cell_type": "markdown",
   "id": "e38ed20f-bf1b-4e9f-b0d0-22056ccf7372",
   "metadata": {},
   "source": [
    "Create a logistic regression object with the nn.Sequential model with a one-dimensional input:"
   ]
  },
  {
   "cell_type": "code",
   "execution_count": 20,
   "id": "0615ea44-6804-4d23-b1dd-cdb42f6ddd81",
   "metadata": {},
   "outputs": [],
   "source": [
    "model=nn.Sequential(nn.Linear(1,1),nn.Sigmoid())"
   ]
  },
  {
   "cell_type": "markdown",
   "id": "1371ef0f-cc4a-4535-84b1-5300effe7fdd",
   "metadata": {},
   "source": [
    "In this case, the parameters are randomly initialized. You can view them the following ways:"
   ]
  },
  {
   "cell_type": "code",
   "execution_count": 21,
   "id": "adac8c83-3d0a-426c-86cd-4a5749cbbc4a",
   "metadata": {},
   "outputs": [
    {
     "name": "stdout",
     "output_type": "stream",
     "text": [
      "list(model.parameters()):\n",
      "  [Parameter containing:\n",
      "tensor([[-0.1749]], requires_grad=True), Parameter containing:\n",
      "tensor([0.9111], requires_grad=True)]\n",
      "\n",
      "model.state_dict():\n",
      "  OrderedDict([('0.weight', tensor([[-0.1749]])), ('0.bias', tensor([0.9111]))])\n"
     ]
    }
   ],
   "source": [
    "# Print the parameters\n",
    "\n",
    "print(\"list(model.parameters()):\\n \", list(model.parameters()))\n",
    "print(\"\\nmodel.state_dict():\\n \", model.state_dict())"
   ]
  },
  {
   "cell_type": "code",
   "execution_count": 22,
   "id": "44bcbd45-2c3a-44b9-961c-7ee25d5387e7",
   "metadata": {},
   "outputs": [
    {
     "name": "stdout",
     "output_type": "stream",
     "text": [
      "Y Prediction tensor([0.5091], grad_fn=<SigmoidBackward0>)\n"
     ]
    }
   ],
   "source": [
    "# Make a prediction with one sample:\n",
    "\n",
    "y_hat=model(x)\n",
    "print(\"Y Prediction\",y_hat)"
   ]
  },
  {
   "cell_type": "code",
   "execution_count": 23,
   "id": "787f44d3-6c8c-480e-ac04-e4d95c1b9521",
   "metadata": {},
   "outputs": [
    {
     "name": "stdout",
     "output_type": "stream",
     "text": [
      "Y Prediction Multiple Sample tensor([[0.2337],\n",
      "        [0.4655]], grad_fn=<SigmoidBackward0>)\n"
     ]
    }
   ],
   "source": [
    "# Make a prediction with Multiple sample:\n",
    "\n",
    "y_hat=model(X)\n",
    "print(\"Y Prediction Multiple Sample\",y_hat)"
   ]
  },
  {
   "cell_type": "markdown",
   "id": "1d888a75-423a-4665-95a7-f46ab09154b4",
   "metadata": {},
   "source": [
    "Create a 1x2 tensor where x represents one data sample with one dimension, and 2x3 tensor X represents one data sample of two dimensions:"
   ]
  },
  {
   "cell_type": "code",
   "execution_count": 25,
   "id": "b98cbe7f-6b76-4166-ab44-5e3dca3e7401",
   "metadata": {},
   "outputs": [
    {
     "name": "stdout",
     "output_type": "stream",
     "text": [
      "Sample x tensor([[12.,  4.]])\n",
      "Multiple Sample 2D tensor([[11.,  3.],\n",
      "        [ 9.,  7.],\n",
      "        [ 6.,  5.]])\n"
     ]
    }
   ],
   "source": [
    "x=torch.tensor([[12.,4.]])\n",
    "X=torch.tensor([[11.,3.],[9.,7.],[6.,5.]])\n",
    "\n",
    "print(\"Sample x\",x)\n",
    "print(\"Multiple Sample 2D\",X)"
   ]
  },
  {
   "cell_type": "markdown",
   "id": "eb29f07a-5a05-4170-a0a1-185f9a591ed5",
   "metadata": {},
   "source": [
    "Create a logistic regression object with the nn.Sequential model with a two-dimensional input:"
   ]
  },
  {
   "cell_type": "code",
   "execution_count": 26,
   "id": "6e471577-16e9-4ab4-942d-b4e44b69077a",
   "metadata": {},
   "outputs": [],
   "source": [
    "# Let's Create This Model\n",
    "model2=nn.Sequential(nn.Linear(2,1),nn.Sigmoid())"
   ]
  },
  {
   "cell_type": "markdown",
   "id": "805463ee-bcf8-442c-a4fb-adc6f559b777",
   "metadata": {},
   "source": [
    "In this case, the parameters are randomly initialized. You can view them the following ways:"
   ]
  },
  {
   "cell_type": "code",
   "execution_count": 27,
   "id": "3d31c239-8590-486c-90ee-aa316749634e",
   "metadata": {},
   "outputs": [
    {
     "name": "stdout",
     "output_type": "stream",
     "text": [
      "list(model.parameters()):\n",
      "  [Parameter containing:\n",
      "tensor([[-0.1749]], requires_grad=True), Parameter containing:\n",
      "tensor([0.9111], requires_grad=True)]\n",
      "\n",
      "model.state_dict():\n",
      "  OrderedDict([('0.weight', tensor([[-0.1749]])), ('0.bias', tensor([0.9111]))])\n"
     ]
    }
   ],
   "source": [
    "# Print the parameters\n",
    "\n",
    "print(\"list(model.parameters()):\\n \", list(model.parameters()))\n",
    "print(\"\\nmodel.state_dict():\\n \", model.state_dict())"
   ]
  },
  {
   "cell_type": "markdown",
   "id": "a7134ff1-cc92-4b6b-8eae-497d6fec1c1f",
   "metadata": {},
   "source": [
    "Make a prediction with one sample:"
   ]
  },
  {
   "cell_type": "code",
   "execution_count": 29,
   "id": "69876a76-36ba-4a01-a5de-da2d3eabe269",
   "metadata": {},
   "outputs": [
    {
     "name": "stdout",
     "output_type": "stream",
     "text": [
      "The prediction:  tensor([[0.9988]], grad_fn=<SigmoidBackward0>)\n"
     ]
    }
   ],
   "source": [
    "# Make the prediction of x\n",
    "\n",
    "yhat = model2(x)\n",
    "print(\"The prediction: \", yhat)"
   ]
  },
  {
   "cell_type": "markdown",
   "id": "3b35ab44-2038-4dbc-93e0-eda271554a04",
   "metadata": {},
   "source": [
    "Make a prediction with multiple samples:"
   ]
  },
  {
   "cell_type": "code",
   "execution_count": 30,
   "id": "5644e9e5-da8c-49a9-b1cc-7e0f4a35a06f",
   "metadata": {},
   "outputs": [
    {
     "name": "stdout",
     "output_type": "stream",
     "text": [
      "The prediction:  tensor([[0.9981],\n",
      "        [0.9924],\n",
      "        [0.9650]], grad_fn=<SigmoidBackward0>)\n"
     ]
    }
   ],
   "source": [
    "# The prediction of X\n",
    "\n",
    "yhat = model2(X)\n",
    "print(\"The prediction: \", yhat)"
   ]
  },
  {
   "cell_type": "markdown",
   "id": "b6f21053-4e00-410c-867e-c0d43b08e095",
   "metadata": {},
   "source": [
    "## Build Custom Modules"
   ]
  },
  {
   "cell_type": "markdown",
   "id": "0e0f5adc-35b4-4bb0-a8dc-be31f41a8043",
   "metadata": {},
   "source": [
    "In this section, you will build a custom Module or class. The model or object function is identical to using nn.Sequential."
   ]
  },
  {
   "cell_type": "code",
   "execution_count": 31,
   "id": "ec3e5197-2120-4847-b739-a3f0240ffeda",
   "metadata": {},
   "outputs": [],
   "source": [
    "class logistic_regression(nn.Module):\n",
    "\n",
    "    def __init__(self,input_dim):\n",
    "        super(logistic_regression,self).__init__()\n",
    "        self.linear=nn.Linear(input_dim,1)\n",
    "\n",
    "\n",
    "    def forward(self,x):\n",
    "        return torch.sigmoid(self.linear(x))"
   ]
  },
  {
   "cell_type": "markdown",
   "id": "a513aa5a-79f3-4bce-a274-04360c46337a",
   "metadata": {},
   "source": [
    "Create a 1x1 tensor where x represents one data sample with one dimension, and 3x1 tensor where  𝑋\n",
    "  represents one data sample of one dimension:"
   ]
  },
  {
   "cell_type": "code",
   "execution_count": 32,
   "id": "b34c37a8-b613-4e4c-a6a4-0d7450f8ed9f",
   "metadata": {},
   "outputs": [],
   "source": [
    "x=torch.tensor([23.])\n",
    "X=torch.tensor([[12.],[4.],[3.]])"
   ]
  },
  {
   "cell_type": "markdown",
   "id": "a13a199a-2d91-4268-aa85-193a150caa52",
   "metadata": {},
   "source": [
    "Create a model to predict one dimension:"
   ]
  },
  {
   "cell_type": "code",
   "execution_count": 33,
   "id": "fe6b7843-fbd0-4e40-85e5-39239dd06eba",
   "metadata": {},
   "outputs": [],
   "source": [
    "model=logistic_regression(1)"
   ]
  },
  {
   "cell_type": "code",
   "execution_count": 34,
   "id": "969737b1-0272-4a2d-9ee2-c355c6f27550",
   "metadata": {},
   "outputs": [
    {
     "name": "stdout",
     "output_type": "stream",
     "text": [
      "y_hat unique sample tensor([0.0271], grad_fn=<SigmoidBackward0>)\n"
     ]
    }
   ],
   "source": [
    "# Let's Make A Prediction With Our Model That we built \n",
    "y_hat=model.forward(x)\n",
    "print(\"y_hat unique sample\",y_hat)"
   ]
  },
  {
   "cell_type": "markdown",
   "id": "f586f405-2c0e-4ce4-9489-24c1146b1687",
   "metadata": {},
   "source": [
    "Make a prediction with multiple samples:"
   ]
  },
  {
   "cell_type": "code",
   "execution_count": 35,
   "id": "7a5ce10b-c0b6-4c57-8f27-dba127a87b22",
   "metadata": {},
   "outputs": [
    {
     "name": "stdout",
     "output_type": "stream",
     "text": [
      "yhat multiple sample predictions tensor([[0.1636],\n",
      "        [0.4466],\n",
      "        [0.4907]], grad_fn=<SigmoidBackward0>)\n"
     ]
    }
   ],
   "source": [
    "y_hat=model.forward(X)\n",
    "print(\"yhat multiple sample predictions\",y_hat)"
   ]
  },
  {
   "cell_type": "markdown",
   "id": "53a41039-aed9-43dc-b437-64963f6445fc",
   "metadata": {},
   "source": [
    "Create a logistic regression object with a function with two inputs: "
   ]
  },
  {
   "cell_type": "code",
   "execution_count": 36,
   "id": "aa36a7fe-42b4-4371-8b3a-df95f59bc031",
   "metadata": {},
   "outputs": [],
   "source": [
    "model=logistic_regression(2)"
   ]
  },
  {
   "cell_type": "markdown",
   "id": "b3765b93-84fa-487e-844a-c4ef5d3a7e24",
   "metadata": {},
   "source": [
    "Create a 1x2 tensor where x represents one data sample with one dimension, and 3x2 tensor X represents one data sample of one dimension:"
   ]
  },
  {
   "cell_type": "code",
   "execution_count": 39,
   "id": "3b16324a-81f6-4735-9252-cb29fdedd87c",
   "metadata": {},
   "outputs": [
    {
     "name": "stdout",
     "output_type": "stream",
     "text": [
      "tensor 2 features one sample tensor([[3., 4.]])\n",
      "tensor 2 features several samples tensor([[2., 3.],\n",
      "        [6., 4.],\n",
      "        [7., 4.]])\n"
     ]
    }
   ],
   "source": [
    "x=torch.tensor([[3.,4.]])\n",
    "X=torch.tensor([[2.,3.],[6.,4.],[7.,4.]])\n",
    "\n",
    "print(\"tensor 2 features one sample\",x)\n",
    "print(\"tensor 2 features several samples\",X)"
   ]
  },
  {
   "cell_type": "code",
   "execution_count": 42,
   "id": "62695274-220f-42bd-bf4e-7d46390a8669",
   "metadata": {},
   "outputs": [
    {
     "name": "stdout",
     "output_type": "stream",
     "text": [
      "predictions for one sample is tensor([[0.6998]], grad_fn=<SigmoidBackward0>)\n",
      "predictions for Multiple sample is tensor([[0.6998]], grad_fn=<SigmoidBackward0>)\n"
     ]
    }
   ],
   "source": [
    "# Let's Make Our Predictions \n",
    "\n",
    "y_hat=model(x)\n",
    "print(\"predictions for one sample is\",y_hat)\n",
    "\n",
    "y_hat_2=model(x)\n",
    "print(\"predictions for Multiple sample is\",y_hat_2)"
   ]
  },
  {
   "cell_type": "code",
   "execution_count": null,
   "id": "50f52675-a055-4b45-9156-f1e2678b6547",
   "metadata": {},
   "outputs": [],
   "source": []
  }
 ],
 "metadata": {
  "kernelspec": {
   "display_name": "Python 3 (ipykernel)",
   "language": "python",
   "name": "python3"
  },
  "language_info": {
   "codemirror_mode": {
    "name": "ipython",
    "version": 3
   },
   "file_extension": ".py",
   "mimetype": "text/x-python",
   "name": "python",
   "nbconvert_exporter": "python",
   "pygments_lexer": "ipython3",
   "version": "3.10.16"
  }
 },
 "nbformat": 4,
 "nbformat_minor": 5
}
