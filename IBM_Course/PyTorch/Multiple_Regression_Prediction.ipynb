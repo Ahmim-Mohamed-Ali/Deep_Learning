{
 "cells": [
  {
   "cell_type": "markdown",
   "id": "4424ceab-b2b5-4c9d-af75-ac3896096cfb",
   "metadata": {},
   "source": [
    "Preparation"
   ]
  },
  {
   "cell_type": "code",
   "execution_count": 1,
   "id": "17e34ba3-11df-4f60-8fef-f16ded371b47",
   "metadata": {},
   "outputs": [
    {
     "data": {
      "text/plain": [
       "<torch._C.Generator at 0x282500fc430>"
      ]
     },
     "execution_count": 1,
     "metadata": {},
     "output_type": "execute_result"
    }
   ],
   "source": [
    "# Import the libraries and set the random seed\n",
    "\n",
    "from torch import nn\n",
    "import torch\n",
    "torch.manual_seed(1)"
   ]
  },
  {
   "cell_type": "markdown",
   "id": "170881c7-998d-43d9-8f4a-2714fbfeead3",
   "metadata": {},
   "source": [
    "## Prediction"
   ]
  },
  {
   "cell_type": "markdown",
   "id": "b94a683c-7e94-4fa3-a5d3-5a62bd46168c",
   "metadata": {},
   "source": [
    "Set weight and bias."
   ]
  },
  {
   "cell_type": "code",
   "execution_count": 2,
   "id": "3ce5d186-9583-4b11-960f-dc4f09babfd5",
   "metadata": {},
   "outputs": [],
   "source": [
    "# Set the weight and bias\n",
    "\n",
    "w = torch.tensor([[2.0], [3.0]], requires_grad=True)\n",
    "b = torch.tensor([[1.0]], requires_grad=True)"
   ]
  },
  {
   "cell_type": "markdown",
   "id": "135fc5bb-0f6e-4366-a4ae-47cf28388394",
   "metadata": {},
   "source": [
    "Define the parameters. torch.mm uses matrix multiplication instead of scaler multiplication."
   ]
  },
  {
   "cell_type": "code",
   "execution_count": 3,
   "id": "3f93ea33-9f55-49eb-b37c-ddc36f0ed0e2",
   "metadata": {},
   "outputs": [],
   "source": [
    "# Define Prediction Function\n",
    "\n",
    "def forward(x):\n",
    "    yhat = torch.mm(x, w) + b\n",
    "    return yhat"
   ]
  },
  {
   "cell_type": "markdown",
   "id": "a2be9186-6652-43f3-8609-8ebbfdfc8e06",
   "metadata": {},
   "source": [
    "If we input a 1x2 tensor, because we have a 2x1 tensor as w, we will get a 1x1 tensor:"
   ]
  },
  {
   "cell_type": "code",
   "execution_count": 4,
   "id": "f2bb6836-c8be-4e8e-a16f-e01bf33e2d70",
   "metadata": {},
   "outputs": [
    {
     "name": "stdout",
     "output_type": "stream",
     "text": [
      "The result:  tensor([[9.]], grad_fn=<AddBackward0>)\n"
     ]
    }
   ],
   "source": [
    "# Calculate yhat\n",
    "\n",
    "x = torch.tensor([[1.0, 2.0]])\n",
    "yhat = forward(x)\n",
    "print(\"The result: \", yhat)"
   ]
  },
  {
   "cell_type": "markdown",
   "id": "87d749ba-ccb9-444c-8356-ee1eadcb9303",
   "metadata": {},
   "source": [
    "## Each row of the following tensor represents a sample:"
   ]
  },
  {
   "cell_type": "code",
   "execution_count": 5,
   "id": "3a98c6ca-7a21-4e8e-bfe7-c9a11c89ed7c",
   "metadata": {},
   "outputs": [],
   "source": [
    "# Sample tensor X\n",
    "\n",
    "X = torch.tensor([[1.0, 1.0], [1.0, 2.0], [1.0, 3.0]])"
   ]
  },
  {
   "cell_type": "code",
   "execution_count": 6,
   "id": "142c2ca1-e658-4df7-8fa0-ccbe54b5f836",
   "metadata": {},
   "outputs": [
    {
     "name": "stdout",
     "output_type": "stream",
     "text": [
      "The result:  tensor([[ 6.],\n",
      "        [ 9.],\n",
      "        [12.]], grad_fn=<AddBackward0>)\n"
     ]
    }
   ],
   "source": [
    "# Make the prediction of X \n",
    "\n",
    "yhat = forward(X)\n",
    "print(\"The result: \", yhat)"
   ]
  },
  {
   "cell_type": "markdown",
   "id": "2efc0c07-b78b-4960-8e6d-946242b903bd",
   "metadata": {},
   "source": [
    "## Class Linear"
   ]
  },
  {
   "cell_type": "markdown",
   "id": "21a44c5d-bafd-4705-81c7-31c83f068f4e",
   "metadata": {},
   "source": [
    "We can use the linear class to make a prediction. You'll also use the linear class to build more complex models."
   ]
  },
  {
   "cell_type": "code",
   "execution_count": 7,
   "id": "2b81e3dc-9dd0-42be-b76b-95371d672e73",
   "metadata": {},
   "outputs": [],
   "source": [
    "# Make a linear regression model using build-in function\n",
    "\n",
    "model = nn.Linear(2, 1)"
   ]
  },
  {
   "cell_type": "code",
   "execution_count": 9,
   "id": "62039909-eeaf-4c2d-aaae-9f1a5a4061a3",
   "metadata": {},
   "outputs": [
    {
     "name": "stdout",
     "output_type": "stream",
     "text": [
      "The result:  tensor([[-0.3969]], grad_fn=<AddmmBackward0>)\n",
      "OrderedDict([('weight', tensor([[ 0.3643, -0.3121]])), ('bias', tensor([-0.1371]))])\n"
     ]
    }
   ],
   "source": [
    "# Make a prediction of x\n",
    "\n",
    "yhat = model(x)\n",
    "print(\"The result: \", yhat)\n",
    "print(model.state_dict())"
   ]
  },
  {
   "cell_type": "code",
   "execution_count": 10,
   "id": "53e05c54-f374-405c-b035-9419c6f56650",
   "metadata": {},
   "outputs": [
    {
     "name": "stdout",
     "output_type": "stream",
     "text": [
      "The result:  tensor([[-0.0848],\n",
      "        [-0.3969],\n",
      "        [-0.7090]], grad_fn=<AddmmBackward0>)\n"
     ]
    }
   ],
   "source": [
    "# Make a prediction of X\n",
    "\n",
    "yhat = model(X)\n",
    "print(\"The result: \", yhat)"
   ]
  },
  {
   "cell_type": "markdown",
   "id": "66dd3009-e521-4ce0-be61-fc9e431690ee",
   "metadata": {},
   "source": [
    "## Build Custom Models"
   ]
  },
  {
   "cell_type": "markdown",
   "id": "5dc3fc48-fac1-4fc9-9aad-aac986bfc859",
   "metadata": {},
   "source": [
    "Now, you'll build a custom module. You can make more complex models by using this method later."
   ]
  },
  {
   "cell_type": "code",
   "execution_count": 11,
   "id": "9345c067-d2fe-44dd-a0a1-57695726e686",
   "metadata": {},
   "outputs": [],
   "source": [
    "# Create linear_regression Class\n",
    "\n",
    "class linear_regression(nn.Module):\n",
    "    \n",
    "    # Constructor\n",
    "    def __init__(self, input_size, output_size):\n",
    "        super(linear_regression, self).__init__()\n",
    "        self.linear = nn.Linear(input_size, output_size)\n",
    "    \n",
    "    # Prediction function\n",
    "    def forward(self, x):\n",
    "        yhat = self.linear(x)\n",
    "        return yhat"
   ]
  },
  {
   "cell_type": "markdown",
   "id": "e6276b5b-4921-46e8-b135-826fc480a147",
   "metadata": {},
   "source": [
    "Build a linear regression object. The input feature size is two."
   ]
  },
  {
   "cell_type": "code",
   "execution_count": 12,
   "id": "9e02e397-a98a-4938-bdd4-36a0e5779bac",
   "metadata": {},
   "outputs": [],
   "source": [
    "model = linear_regression(2, 1)"
   ]
  },
  {
   "cell_type": "markdown",
   "id": "1156f41d-2249-488b-b44c-ed4478630a74",
   "metadata": {},
   "source": [
    "You can see the randomly initialized parameters by using the parameters() method:"
   ]
  },
  {
   "cell_type": "code",
   "execution_count": 13,
   "id": "31ef3d86-82ec-4398-83c8-b65431f99878",
   "metadata": {},
   "outputs": [
    {
     "name": "stdout",
     "output_type": "stream",
     "text": [
      "The parameters:  [Parameter containing:\n",
      "tensor([[ 0.3319, -0.6657]], requires_grad=True), Parameter containing:\n",
      "tensor([0.4241], requires_grad=True)]\n"
     ]
    }
   ],
   "source": [
    "# Print model parameters\n",
    "\n",
    "print(\"The parameters: \", list(model.parameters()))"
   ]
  },
  {
   "cell_type": "markdown",
   "id": "cc37e131-90d2-4131-8496-506efd86e3d1",
   "metadata": {},
   "source": [
    "Now we input a 1x2 tensor, and we will get a 1x1 tensor."
   ]
  },
  {
   "cell_type": "code",
   "execution_count": 14,
   "id": "8b8f2fa5-fbbe-44e6-b001-91421ddaf0e1",
   "metadata": {},
   "outputs": [
    {
     "name": "stdout",
     "output_type": "stream",
     "text": [
      "The result:  tensor([[-0.5754]], grad_fn=<AddmmBackward0>)\n"
     ]
    }
   ],
   "source": [
    "# Make a prediction of x\n",
    "\n",
    "yhat = model(x)\n",
    "print(\"The result: \", yhat)"
   ]
  },
  {
   "cell_type": "code",
   "execution_count": 15,
   "id": "afa57c7f-3b70-4f6b-b8ed-3133c257b0e0",
   "metadata": {},
   "outputs": [
    {
     "name": "stdout",
     "output_type": "stream",
     "text": [
      "Result For Multiple Sample tensor([[ 0.0903],\n",
      "        [-0.5754],\n",
      "        [-1.2411]], grad_fn=<AddmmBackward0>)\n"
     ]
    }
   ],
   "source": [
    "## make A Predcition For Multiple Sample\n",
    "\n",
    "yhat_multiple_sample=model(X)\n",
    "print(\"Result For Multiple Sample\",yhat_multiple_sample)"
   ]
  },
  {
   "cell_type": "markdown",
   "id": "c3a2067f-9015-4b24-b06a-7206571be794",
   "metadata": {},
   "source": [
    "### Practice"
   ]
  },
  {
   "cell_type": "markdown",
   "id": "f121da30-9cec-4cac-81d7-b3676bddaf41",
   "metadata": {},
   "source": [
    "Build a model or object of type linear_regression. Using the linear_regression object will predict the following tensor:"
   ]
  },
  {
   "cell_type": "code",
   "execution_count": 16,
   "id": "047bc65a-dc4b-4770-b9dc-6fecf81fcb3e",
   "metadata": {},
   "outputs": [
    {
     "name": "stdout",
     "output_type": "stream",
     "text": [
      "Samples Predicted tensor([[2.1062],\n",
      "        [2.1062]], grad_fn=<AddmmBackward0>)\n"
     ]
    }
   ],
   "source": [
    "# Practice: Build a model to predict the follow tensor.\n",
    "\n",
    "X = torch.tensor([[11.0, 12.0, 13, 14], [11, 12, 13, 14]])\n",
    "\n",
    "model=linear_regression(4,1)\n",
    "y_hat=model(X)\n",
    "print(\"Samples Predicted\",y_hat)"
   ]
  },
  {
   "cell_type": "code",
   "execution_count": null,
   "id": "f7aac730-065c-4d4b-ba0f-c0df1085e0f7",
   "metadata": {},
   "outputs": [],
   "source": []
  }
 ],
 "metadata": {
  "kernelspec": {
   "display_name": "Python 3 (ipykernel)",
   "language": "python",
   "name": "python3"
  },
  "language_info": {
   "codemirror_mode": {
    "name": "ipython",
    "version": 3
   },
   "file_extension": ".py",
   "mimetype": "text/x-python",
   "name": "python",
   "nbconvert_exporter": "python",
   "pygments_lexer": "ipython3",
   "version": "3.10.16"
  }
 },
 "nbformat": 4,
 "nbformat_minor": 5
}
