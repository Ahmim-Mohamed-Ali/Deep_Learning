{
 "cells": [
  {
   "cell_type": "code",
   "execution_count": 1,
   "id": "92dd8115-79eb-4be7-a147-785771dcee47",
   "metadata": {},
   "outputs": [],
   "source": [
    "from torch import nn\n",
    "import torch"
   ]
  },
  {
   "cell_type": "code",
   "execution_count": 2,
   "id": "5966e536-8a09-4e92-b54c-29985329a8c0",
   "metadata": {},
   "outputs": [],
   "source": [
    "class linear_regression(nn.Module):\n",
    "    def __init__(self,input_size,output_size):\n",
    "        super(linear_regression,self).__init__()\n",
    "        self.linear=nn.Linear(input_size,output_size)\n",
    "    def forward(self,x):\n",
    "        yhat=self.linear(x)\n",
    "        return yhat"
   ]
  },
  {
   "cell_type": "markdown",
   "id": "a0fd6f11-6c39-4769-88ca-b6a067e91d6e",
   "metadata": {},
   "source": [
    "create a linear regression object, as our input and output will be two we set the parameters accordingly"
   ]
  },
  {
   "cell_type": "code",
   "execution_count": 3,
   "id": "76620339-dad9-4c16-a311-93cf275dd737",
   "metadata": {},
   "outputs": [
    {
     "data": {
      "text/plain": [
       "tensor([ 1.9657,  0.4364, -0.2009,  0.5081, -1.0170, -0.1788,  0.8406, -0.7493,\n",
       "        -0.5740,  0.4300], grad_fn=<ViewBackward0>)"
      ]
     },
     "execution_count": 3,
     "metadata": {},
     "output_type": "execute_result"
    }
   ],
   "source": [
    "model=linear_regression(1,10)\n",
    "model(torch.tensor([1.0]))"
   ]
  },
  {
   "cell_type": "code",
   "execution_count": 4,
   "id": "6b3b92fb-297d-4de6-a643-423d6369e47f",
   "metadata": {},
   "outputs": [
    {
     "data": {
      "text/plain": [
       "[Parameter containing:\n",
       " tensor([[ 0.9845],\n",
       "         [-0.1059],\n",
       "         [-0.1142],\n",
       "         [-0.4148],\n",
       "         [-0.6591],\n",
       "         [-0.0413],\n",
       "         [-0.1031],\n",
       "         [-0.1164],\n",
       "         [-0.2791],\n",
       "         [ 0.6470]], requires_grad=True),\n",
       " Parameter containing:\n",
       " tensor([ 0.9811,  0.5423, -0.0867,  0.9229, -0.3578, -0.1375,  0.9438, -0.6329,\n",
       "         -0.2948, -0.2170], requires_grad=True)]"
      ]
     },
     "execution_count": 4,
     "metadata": {},
     "output_type": "execute_result"
    }
   ],
   "source": [
    "# we can see the parameters\n",
    "list(model.parameters())"
   ]
  },
  {
   "cell_type": "code",
   "execution_count": 5,
   "id": "586fa88a-acfc-4f98-aa68-892543f08fff",
   "metadata": {},
   "outputs": [],
   "source": [
    "X=torch.tensor([[1.0],[1.0],[3.0]])"
   ]
  },
  {
   "cell_type": "code",
   "execution_count": 6,
   "id": "76295c72-e7e8-4c8c-b861-5214231164e3",
   "metadata": {},
   "outputs": [
    {
     "data": {
      "text/plain": [
       "tensor([[ 1.9657,  0.4364, -0.2009,  0.5081, -1.0170, -0.1788,  0.8406, -0.7493,\n",
       "         -0.5740,  0.4300],\n",
       "        [ 1.9657,  0.4364, -0.2009,  0.5081, -1.0170, -0.1788,  0.8406, -0.7493,\n",
       "         -0.5740,  0.4300],\n",
       "        [ 3.9347,  0.2246, -0.4292, -0.3215, -2.3352, -0.2613,  0.6343, -0.9821,\n",
       "         -1.1323,  1.7240]], grad_fn=<AddmmBackward0>)"
      ]
     },
     "execution_count": 6,
     "metadata": {},
     "output_type": "execute_result"
    }
   ],
   "source": [
    "Yhat=model(X)\n",
    "Yhat"
   ]
  },
  {
   "cell_type": "code",
   "execution_count": null,
   "id": "949db269-e915-47ee-bbb7-558aa8f7eaa2",
   "metadata": {},
   "outputs": [],
   "source": []
  }
 ],
 "metadata": {
  "kernelspec": {
   "display_name": "Python 3 (ipykernel)",
   "language": "python",
   "name": "python3"
  },
  "language_info": {
   "codemirror_mode": {
    "name": "ipython",
    "version": 3
   },
   "file_extension": ".py",
   "mimetype": "text/x-python",
   "name": "python",
   "nbconvert_exporter": "python",
   "pygments_lexer": "ipython3",
   "version": "3.10.16"
  }
 },
 "nbformat": 4,
 "nbformat_minor": 5
}
