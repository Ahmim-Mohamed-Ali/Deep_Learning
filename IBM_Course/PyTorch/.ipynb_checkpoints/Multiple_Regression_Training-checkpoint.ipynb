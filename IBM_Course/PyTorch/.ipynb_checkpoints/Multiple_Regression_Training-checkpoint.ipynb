{
 "cells": [
  {
   "cell_type": "markdown",
   "id": "4b4ed1c8-f7c4-4f7b-a4c2-e30bc09f15a8",
   "metadata": {},
   "source": [
    "We'll need the following libraries:"
   ]
  },
  {
   "cell_type": "code",
   "execution_count": 6,
   "id": "6b702afe-c322-4edb-abcc-076d6f2b8624",
   "metadata": {},
   "outputs": [],
   "source": [
    "# Import the libraries we need for this lab\n",
    "\n",
    "from torch import nn,optim\n",
    "import torch\n",
    "import numpy as np\n",
    "import matplotlib.pyplot as plt\n",
    "\n",
    "from mpl_toolkits.mplot3d import Axes3D\n",
    "from torch.utils.data import Dataset, DataLoader\n",
    "import warnings\n",
    "\n",
    "# Suppress all warnings\n",
    "warnings.filterwarnings(\"ignore\")\n",
    "device = torch.device(\"cpu\")"
   ]
  },
  {
   "cell_type": "markdown",
   "id": "33bdea5a-9ba1-4ba8-831d-cd01bd50ed6f",
   "metadata": {},
   "source": [
    "Use this function for plotting:"
   ]
  },
  {
   "cell_type": "code",
   "execution_count": 2,
   "id": "31ac2c24-8415-4e28-aae3-7756f6b5855b",
   "metadata": {},
   "outputs": [],
   "source": [
    "# The function for plotting 2D\n",
    "\n",
    "def Plot_2D_Plane(model, dataset, n=0):\n",
    "    w1 = model.state_dict()['linear.weight'].numpy()[0][0]\n",
    "    w2 = model.state_dict()['linear.weight'].numpy()[0][1]\n",
    "    b = model.state_dict()['linear.bias'].numpy()\n",
    "\n",
    "    # Data\n",
    "    x1 = dataset.x[:, 0].view(-1, 1).numpy()\n",
    "    x2 = dataset.x[:, 1].view(-1, 1).numpy()\n",
    "    y = dataset.y.numpy()\n",
    "\n",
    "    # Make plane\n",
    "    X, Y = np.meshgrid(np.arange(x1.min(), x1.max(), 0.05), np.arange(x2.min(), x2.max(), 0.05))\n",
    "    yhat = w1 * X + w2 * Y + b\n",
    "\n",
    "    # Plotting\n",
    "    fig = plt.figure()\n",
    "    ax = fig.add_subplot(111, projection='3d')\n",
    "\n",
    "    ax.plot(x1[:, 0], x2[:, 0], y[:, 0],'ro', label='y') # Scatter plot\n",
    "    \n",
    "    ax.plot_surface(X, Y, yhat) # Plane plot\n",
    "    \n",
    "    ax.set_xlabel('x1 ')\n",
    "    ax.set_ylabel('x2 ')\n",
    "    ax.set_zlabel('y')\n",
    "    plt.title('estimated plane iteration:' + str(n))\n",
    "    ax.legend()\n",
    "\n",
    "    plt.show()"
   ]
  },
  {
   "cell_type": "markdown",
   "id": "3f04662d-a093-4738-992f-7354cd9ee3d9",
   "metadata": {},
   "source": [
    "## We Gonna To Make Some Data"
   ]
  },
  {
   "cell_type": "markdown",
   "id": "58aafa00-651b-498f-9bfa-8ef2ec590f55",
   "metadata": {},
   "source": [
    "Create a dataset class with two-dimensional features:"
   ]
  },
  {
   "cell_type": "code",
   "execution_count": 3,
   "id": "81d3822e-b98f-4de5-ba46-c7cc4c4a52ae",
   "metadata": {},
   "outputs": [],
   "source": [
    "# Create a 2D dataset\n",
    "\n",
    "class Data2D(Dataset):\n",
    "    \n",
    "    # Constructor\n",
    "    def __init__(self):\n",
    "        self.x = torch.zeros(20, 2, device=device)  # Place sur CPU\n",
    "        self.x[:, 0] = torch.arange(-1, 1, 0.1, device=device)\n",
    "        self.x[:, 1] = torch.arange(-1, 1, 0.1, device=device)\n",
    "        self.w = torch.tensor([[1.0], [1.0]], device=device)\n",
    "        self.b = torch.tensor(1.0, device=device)  # Bias sur CPU\n",
    "        self.f = torch.mm(self.x, self.w) + self.b    \n",
    "        self.y = self.f + 0.1 * torch.randn((self.x.shape[0], 1), device=device)  # Bruit sur CPU\n",
    "        self.len = self.x.shape[0]\n",
    "\n",
    "    # Getter\n",
    "    def __getitem__(self, index):          \n",
    "        return self.x[index], self.y[index]\n",
    "    \n",
    "    # Get Length\n",
    "    def __len__(self):\n",
    "        return self.len"
   ]
  },
  {
   "cell_type": "markdown",
   "id": "f4358077-6647-4c2b-994b-0177560274c4",
   "metadata": {},
   "source": [
    "Create a dataset object:"
   ]
  },
  {
   "cell_type": "code",
   "execution_count": 4,
   "id": "01da431f-6d08-48fe-a80b-985f6f422435",
   "metadata": {},
   "outputs": [],
   "source": [
    "# Create the dataset object\n",
    "\n",
    "data_set = Data2D()"
   ]
  },
  {
   "cell_type": "markdown",
   "id": "a63cb952-8ad3-4539-ab01-ad20be69260d",
   "metadata": {},
   "source": [
    "## Create the Model, Optimizer, and Total Loss Function (Cost)"
   ]
  },
  {
   "cell_type": "markdown",
   "id": "bd40a696-0ff0-4edf-8dea-b0793133749a",
   "metadata": {},
   "source": [
    "Create a customized linear regression module:"
   ]
  },
  {
   "cell_type": "code",
   "execution_count": 5,
   "id": "b481d4d6-d292-4515-8977-52e00dd839af",
   "metadata": {},
   "outputs": [
    {
     "ename": "NameError",
     "evalue": "name 'nn' is not defined",
     "output_type": "error",
     "traceback": [
      "\u001b[1;31m---------------------------------------------------------------------------\u001b[0m",
      "\u001b[1;31mNameError\u001b[0m                                 Traceback (most recent call last)",
      "Cell \u001b[1;32mIn[5], line 3\u001b[0m\n\u001b[0;32m      1\u001b[0m \u001b[38;5;66;03m# Create a customized linear\u001b[39;00m\n\u001b[1;32m----> 3\u001b[0m \u001b[38;5;28;01mclass\u001b[39;00m \u001b[38;5;21;01mlinear_regression\u001b[39;00m(\u001b[43mnn\u001b[49m\u001b[38;5;241m.\u001b[39mModule):\n\u001b[0;32m      4\u001b[0m     \n\u001b[0;32m      5\u001b[0m     \u001b[38;5;66;03m# Constructor\u001b[39;00m\n\u001b[0;32m      6\u001b[0m     \u001b[38;5;28;01mdef\u001b[39;00m \u001b[38;5;21m__init__\u001b[39m(\u001b[38;5;28mself\u001b[39m, input_size, output_size):\n\u001b[0;32m      7\u001b[0m         \u001b[38;5;28msuper\u001b[39m(linear_regression, \u001b[38;5;28mself\u001b[39m)\u001b[38;5;241m.\u001b[39m\u001b[38;5;21m__init__\u001b[39m()\n",
      "\u001b[1;31mNameError\u001b[0m: name 'nn' is not defined"
     ]
    }
   ],
   "source": [
    "# Create a customized linear\n",
    "\n",
    "class linear_regression(nn.Module):\n",
    "    \n",
    "    # Constructor\n",
    "    def __init__(self, input_size, output_size):\n",
    "        super(linear_regression, self).__init__()\n",
    "        self.linear = nn.Linear(input_size, output_size)\n",
    "        \n",
    "    # Prediction\n",
    "    def forward(self, x):\n",
    "        yhat = self.linear(x)\n",
    "        return yhat"
   ]
  },
  {
   "cell_type": "markdown",
   "id": "a600bfa7-64b1-4797-bc59-64420d5310b9",
   "metadata": {},
   "source": [
    "Create a model. Use two features: make the input size 2 and the output size 1:"
   ]
  },
  {
   "cell_type": "code",
   "execution_count": 4,
   "id": "770cf196-6013-43cc-8978-4143fa3b15ee",
   "metadata": {},
   "outputs": [
    {
     "ename": "NameError",
     "evalue": "name 'linear_regression' is not defined",
     "output_type": "error",
     "traceback": [
      "\u001b[1;31m---------------------------------------------------------------------------\u001b[0m",
      "\u001b[1;31mNameError\u001b[0m                                 Traceback (most recent call last)",
      "Cell \u001b[1;32mIn[4], line 1\u001b[0m\n\u001b[1;32m----> 1\u001b[0m model\u001b[38;5;241m=\u001b[39m\u001b[43mlinear_regression\u001b[49m(\u001b[38;5;241m2\u001b[39m,\u001b[38;5;241m1\u001b[39m)\n\u001b[0;32m      2\u001b[0m \u001b[38;5;28mprint\u001b[39m(\u001b[38;5;124m\"\u001b[39m\u001b[38;5;124mParameters Model\u001b[39m\u001b[38;5;124m\"\u001b[39m, model\u001b[38;5;241m.\u001b[39mstate_dict())\n",
      "\u001b[1;31mNameError\u001b[0m: name 'linear_regression' is not defined"
     ]
    }
   ],
   "source": [
    "model=linear_regression(2,1)\n",
    "print(\"Parameters Model\", model.state_dict())"
   ]
  },
  {
   "cell_type": "code",
   "execution_count": 7,
   "id": "53819c55-5f40-48d8-ae2d-61bd77417c69",
   "metadata": {},
   "outputs": [],
   "source": [
    "lr=0.1\n",
    "optimizer=optim.SGD(model.parameters(),lr=lr)"
   ]
  },
  {
   "cell_type": "markdown",
   "id": "0f85b40b-ade7-4b4f-b1a8-84496a92722a",
   "metadata": {},
   "source": [
    "Create the criterion function that calculates the total loss or cost:"
   ]
  },
  {
   "cell_type": "code",
   "execution_count": 8,
   "id": "4f4e64d0-dfbf-4e11-924b-8840c1b56bae",
   "metadata": {},
   "outputs": [],
   "source": [
    "criterion=nn.MSELoss()"
   ]
  },
  {
   "cell_type": "markdown",
   "id": "47529e72-539b-456c-9bad-b9feca61e227",
   "metadata": {},
   "source": [
    "Create a data loader object. Set the batch_size equal to 2:"
   ]
  },
  {
   "cell_type": "code",
   "execution_count": 9,
   "id": "af58f9ee-2c69-4bd7-9d2a-524ece91f13e",
   "metadata": {},
   "outputs": [],
   "source": [
    "# Create the data loader\n",
    "\n",
    "train_loader = DataLoader(dataset=data_set, batch_size=2)"
   ]
  },
  {
   "cell_type": "markdown",
   "id": "f11bc7d8-1677-44f0-9a2a-625f049409b5",
   "metadata": {},
   "source": [
    "## Train the Model via Mini-Batch Gradient Descent"
   ]
  },
  {
   "cell_type": "markdown",
   "id": "dc4cf148-b55c-41ad-9e5e-aad2a7acf8ca",
   "metadata": {},
   "source": [
    "Run 100 epochs of Mini-Batch Gradient Descent and store the total loss or cost for every iteration. Remember that this is an approximation of the true total loss or cost:"
   ]
  },
  {
   "cell_type": "code",
   "execution_count": 3,
   "id": "34f14e91-6b65-4db1-93ec-06ca21cd13e0",
   "metadata": {},
   "outputs": [
    {
     "name": "stdout",
     "output_type": "stream",
     "text": [
      "Before Training: \n"
     ]
    },
    {
     "ename": "NameError",
     "evalue": "name 'model' is not defined",
     "output_type": "error",
     "traceback": [
      "\u001b[1;31m---------------------------------------------------------------------------\u001b[0m",
      "\u001b[1;31mNameError\u001b[0m                                 Traceback (most recent call last)",
      "Cell \u001b[1;32mIn[3], line 5\u001b[0m\n\u001b[0;32m      3\u001b[0m LOSS \u001b[38;5;241m=\u001b[39m []\n\u001b[0;32m      4\u001b[0m \u001b[38;5;28mprint\u001b[39m(\u001b[38;5;124m\"\u001b[39m\u001b[38;5;124mBefore Training: \u001b[39m\u001b[38;5;124m\"\u001b[39m)\n\u001b[1;32m----> 5\u001b[0m Plot_2D_Plane(\u001b[43mmodel\u001b[49m, data_set)   \n\u001b[0;32m      6\u001b[0m epochs \u001b[38;5;241m=\u001b[39m \u001b[38;5;241m100\u001b[39m\n\u001b[0;32m      8\u001b[0m \u001b[38;5;28;01mfor\u001b[39;00m i \u001b[38;5;129;01min\u001b[39;00m \u001b[38;5;28mrange\u001b[39m(epochs) :\n",
      "\u001b[1;31mNameError\u001b[0m: name 'model' is not defined"
     ]
    }
   ],
   "source": [
    "# Train the model\n",
    "\n",
    "LOSS = []\n",
    "print(\"Before Training: \")\n",
    "Plot_2D_Plane(model, data_set)   \n",
    "epochs = 100\n",
    "\n",
    "for i in range(epochs) :\n",
    "    for x,y in train_loader:\n",
    "        y_hat=model(x)\n",
    "        loss=criterion(y_hat,y)\n",
    "        LOSS.append(loss.item())\n",
    "        optimizer.zero_grad()\n",
    "        loss.backward()\n",
    "        optimizer.step()\n",
    "train_model(epochs)\n",
    "print(\"After Training: \")\n",
    "Plot_2D_Plane(model, data_set, epochs)    "
   ]
  },
  {
   "cell_type": "code",
   "execution_count": null,
   "id": "00cee18f-1558-46c3-a7d4-6290f0df056a",
   "metadata": {},
   "outputs": [],
   "source": []
  }
 ],
 "metadata": {
  "kernelspec": {
   "display_name": "Python 3 (ipykernel)",
   "language": "python",
   "name": "python3"
  },
  "language_info": {
   "codemirror_mode": {
    "name": "ipython",
    "version": 3
   },
   "file_extension": ".py",
   "mimetype": "text/x-python",
   "name": "python",
   "nbconvert_exporter": "python",
   "pygments_lexer": "ipython3",
   "version": "3.10.16"
  }
 },
 "nbformat": 4,
 "nbformat_minor": 5
}
